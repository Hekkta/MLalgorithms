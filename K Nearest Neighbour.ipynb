{
 "cells": [
  {
   "cell_type": "code",
   "execution_count": 21,
   "id": "2ff4200f",
   "metadata": {},
   "outputs": [],
   "source": [
    "import pandas as pd\n",
    "import numpy as np\n",
    "from sklearn.datasets import make_blobs\n",
    "import matplotlib.pyplot as plt\n",
    "from collections import Counter"
   ]
  },
  {
   "cell_type": "markdown",
   "id": "a2b0a649",
   "metadata": {},
   "source": [
    "### Make the dataset"
   ]
  },
  {
   "cell_type": "code",
   "execution_count": 5,
   "id": "37bbd35d",
   "metadata": {},
   "outputs": [],
   "source": [
    "X, y = make_blobs(n_samples=40, random_state=42, n_features=2, cluster_std=3, centers=3)"
   ]
  },
  {
   "cell_type": "code",
   "execution_count": 6,
   "id": "136b601d",
   "metadata": {},
   "outputs": [
    {
     "data": {
      "text/plain": [
       "<AxesSubplot:xlabel='x1', ylabel='x2'>"
      ]
     },
     "execution_count": 6,
     "metadata": {},
     "output_type": "execute_result"
    },
    {
     "data": {
      "image/png": "[encoded data removed]",
      "text/plain": [
       "<Figure size 432x288 with 1 Axes>"
      ]
     },
     "metadata": {
      "needs_background": "light"
     },
     "output_type": "display_data"
    }
   ],
   "source": [
    "df = pd.DataFrame(X, columns=['x1', 'x2'])\n",
    "\n",
    "df['y'] = y\n",
    "\n",
    "col = df['y'].map({1:'r', 2:'b', 0:'g'})\n",
    "\n",
    "df.plot(kind='scatter', x='x1', y='x2', c=col)"
   ]
  },
  {
   "cell_type": "markdown",
   "id": "8a9a3ddb",
   "metadata": {},
   "source": [
    "### Define the class"
   ]
  },
  {
   "cell_type": "code",
   "execution_count": 29,
   "id": "58c207b3",
   "metadata": {},
   "outputs": [],
   "source": [
    "class knn():\n",
    "    def __init__(self, k):\n",
    "        self.k = k\n",
    "        self.X = []\n",
    "        self.y = []\n",
    "        \n",
    "    # distance function is just euclidean distance without the square root since it doesn't change the order of the closest points.\n",
    "    def dist(self, x1, x2):\n",
    "        total = 0\n",
    "        for i, j in zip(x1, x2):\n",
    "            total += pow(i-j, 2)\n",
    "        return total\n",
    "            \n",
    "    def fit(self, X, y):\n",
    "        self.X = X\n",
    "        self.y = y\n",
    "        \n",
    "    def predict(self, array):\n",
    "        result_array = []\n",
    "        \n",
    "        for x in array:\n",
    "            distance_array = []\n",
    "            for point, result in zip(self.X, self.y):\n",
    "                distance_array.append((self.dist(x, point), result))\n",
    "            result_array.append(Counter([i[1] for i in sorted(distance_array)][:5]).most_common(1)[0][0])\n",
    "            \n",
    "        return result_array"
   ]
  },
  {
   "cell_type": "code",
   "execution_count": 31,
   "id": "7a0c7401",
   "metadata": {},
   "outputs": [
    {
     "data": {
      "text/plain": [
       "[2, 1, 0]"
      ]
     },
     "execution_count": 31,
     "metadata": {},
     "output_type": "execute_result"
    }
   ],
   "source": [
    "model = knn(1)\n",
    "\n",
    "model.fit(X, y)\n",
    "\n",
    "model.predict([[-10, -10], [5, 0], [-4, 10]])"
   ]
  },
  {
   "cell_type": "code",
   "execution_count": null,
   "id": "b320feaa",
   "metadata": {},
   "outputs": [],
   "source": []
  }
 ],
 "metadata": {
  "kernelspec": {
   "display_name": "Python 3 (ipykernel)",
   "language": "python",
   "name": "python3"
  },
  "language_info": {
   "codemirror_mode": {
    "name": "ipython",
    "version": 3
   },
   "file_extension": ".py",
   "mimetype": "text/x-python",
   "name": "python",
   "nbconvert_exporter": "python",
   "pygments_lexer": "ipython3",
   "version": "3.9.7"
  }
 },
 "nbformat": 4,
 "nbformat_minor": 5
}
