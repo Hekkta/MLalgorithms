{
 "cells": [
  {
   "cell_type": "code",
   "execution_count": 36,
   "id": "2ff4200f",
   "metadata": {},
   "outputs": [],
   "source": [
    "import pandas as pd\n",
    "import numpy as np\n",
    "from sklearn.datasets import make_blobs\n",
    "import matplotlib.pyplot as plt\n",
    "from collections import Counter\n",
    "from sklearn.datasets import make_regression\n",
    "import matplotlib.pyplot as plt"
   ]
  },
  {
   "cell_type": "markdown",
   "id": "3b1a8a48",
   "metadata": {},
   "source": [
    "# Classifier"
   ]
  },
  {
   "cell_type": "markdown",
   "id": "a2b0a649",
   "metadata": {},
   "source": [
    "### Make the dataset"
   ]
  },
  {
   "cell_type": "code",
   "execution_count": 5,
   "id": "37bbd35d",
   "metadata": {},
   "outputs": [],
   "source": [
    "X, y = make_blobs(n_samples=40, random_state=42, n_features=2, cluster_std=3, centers=3)"
   ]
  },
  {
   "cell_type": "code",
   "execution_count": 6,
   "id": "136b601d",
   "metadata": {},
   "outputs": [
    {
     "data": {
      "text/plain": [
       "<AxesSubplot:xlabel='x1', ylabel='x2'>"
      ]
     },
     "execution_count": 6,
     "metadata": {},
     "output_type": "execute_result"
    },
    {
     "data": {
      "image/png": "[encoded data removed]",
      "text/plain": [
       "<Figure size 432x288 with 1 Axes>"
      ]
     },
     "metadata": {
      "needs_background": "light"
     },
     "output_type": "display_data"
    }
   ],
   "source": [
    "df = pd.DataFrame(X, columns=['x1', 'x2'])\n",
    "\n",
    "df['y'] = y\n",
    "\n",
    "col = df['y'].map({1:'r', 2:'b', 0:'g'})\n",
    "\n",
    "df.plot(kind='scatter', x='x1', y='x2', c=col)"
   ]
  },
  {
   "cell_type": "markdown",
   "id": "8a9a3ddb",
   "metadata": {},
   "source": [
    "### Define the class"
   ]
  },
  {
   "cell_type": "code",
   "execution_count": 65,
   "id": "58c207b3",
   "metadata": {},
   "outputs": [],
   "source": [
    "class knn_c():\n",
    "    def __init__(self, k):\n",
    "        self.k = k\n",
    "        self.X = []\n",
    "        self.y = []\n",
    "        \n",
    "    # distance function is just euclidean distance without the square root since it doesn't change the order of the closest points.\n",
    "    def dist(self, x1, x2):\n",
    "        total = 0\n",
    "        for i, j in zip(x1, x2):\n",
    "            total += pow(i-j, 2)\n",
    "        return total\n",
    "            \n",
    "    def fit(self, X, y):\n",
    "        self.X = X\n",
    "        self.y = y\n",
    "        \n",
    "    def predict(self, array):\n",
    "        result_array = []\n",
    "        \n",
    "        for x in array:\n",
    "            distance_array = []\n",
    "            for point, result in zip(self.X, self.y):\n",
    "                distance_array.append((self.dist(x, point), result))\n",
    "            result_array.append(Counter([i[1] for i in sorted(distance_array)][:self.k]).most_common(1)[0][0])\n",
    "            \n",
    "        return result_array"
   ]
  },
  {
   "cell_type": "code",
   "execution_count": 67,
   "id": "7a0c7401",
   "metadata": {},
   "outputs": [
    {
     "data": {
      "text/plain": [
       "[-37.250852403722654, 14.590940233448936, 98.47586072973922]"
      ]
     },
     "execution_count": 67,
     "metadata": {},
     "output_type": "execute_result"
    }
   ],
   "source": [
    "model = knn_c(10)\n",
    "\n",
    "model.fit(X, y)\n",
    "\n",
    "model.predict([[-1], [0], [1]])"
   ]
  },
  {
   "cell_type": "markdown",
   "id": "ce5e9351",
   "metadata": {},
   "source": [
    "# Regressor"
   ]
  },
  {
   "cell_type": "markdown",
   "id": "4a349073",
   "metadata": {},
   "source": [
    "### Make the dataset"
   ]
  },
  {
   "cell_type": "code",
   "execution_count": 38,
   "id": "a4d6cef5",
   "metadata": {},
   "outputs": [],
   "source": [
    "X, y = make_regression(n_samples=100, n_features=1, random_state=4, noise=30, bias = 40)"
   ]
  },
  {
   "cell_type": "code",
   "execution_count": 39,
   "id": "12f9f467",
   "metadata": {},
   "outputs": [
    {
     "data": {
      "text/plain": [
       "<AxesSubplot:xlabel='X', ylabel='y'>"
      ]
     },
     "execution_count": 39,
     "metadata": {},
     "output_type": "execute_result"
    },
    {
     "data": {
      "image/png": "[encoded data removed]",
      "text/plain": [
       "<Figure size 432x288 with 1 Axes>"
      ]
     },
     "metadata": {
      "needs_background": "light"
     },
     "output_type": "display_data"
    }
   ],
   "source": [
    "df = pd.DataFrame(X, columns=['X'])\n",
    "df['y'] = y\n",
    "\n",
    "df.plot(x='X', y='y', kind='scatter')"
   ]
  },
  {
   "cell_type": "markdown",
   "id": "fbe397b4",
   "metadata": {},
   "source": [
    "### Define the class"
   ]
  },
  {
   "cell_type": "code",
   "execution_count": 71,
   "id": "d0bc87b3",
   "metadata": {},
   "outputs": [],
   "source": [
    "class knn_r():\n",
    "    def __init__(self, k):\n",
    "        self.k = k\n",
    "        self.X = []\n",
    "        self.y = []\n",
    "        \n",
    "    # distance function is just euclidean distance without the square root since it doesn't change the order of the closest points.\n",
    "    def dist(self, x1, x2):\n",
    "        total = 0\n",
    "        for i, j in zip(x1, x2):\n",
    "            total += pow(i-j, 2)\n",
    "        return total\n",
    "            \n",
    "    def fit(self, X, y):\n",
    "        self.X = X\n",
    "        self.y = y\n",
    "        \n",
    "    def predict(self, array):\n",
    "        result_array = []\n",
    "        \n",
    "        for x in array:\n",
    "            distance_array = []\n",
    "            for point, result in zip(self.X, self.y):\n",
    "                distance_array.append((self.dist(x, point), result))\n",
    "            result_array.append(np.array([i[1] for i in sorted(distance_array)[:self.k]]).mean())\n",
    "            \n",
    "        return result_array"
   ]
  },
  {
   "cell_type": "code",
   "execution_count": 75,
   "id": "2a4a5fe8",
   "metadata": {},
   "outputs": [
    {
     "name": "stdout",
     "output_type": "stream",
     "text": [
      "Prediction [-37.250852403722654, 14.590940233448936, 98.47586072973922]\n"
     ]
    },
    {
     "data": {
      "text/plain": [
       "<matplotlib.collections.PathCollection at 0x186a7d07a00>"
      ]
     },
     "execution_count": 75,
     "metadata": {},
     "output_type": "execute_result"
    },
    {
     "data": {
      "image/png": "[encoded data removed]",
      "text/plain": [
       "<Figure size 432x288 with 1 Axes>"
      ]
     },
     "metadata": {
      "needs_background": "light"
     },
     "output_type": "display_data"
    }
   ],
   "source": [
    "# k = 1\n",
    "\n",
    "model = knn_r(1)\n",
    "\n",
    "model.fit(X, y)\n",
    "\n",
    "array = [[-1], [0], [1]]\n",
    "\n",
    "print('Prediction', model.predict(array))\n",
    "\n",
    "plt.scatter(X, y)\n",
    "plt.scatter(X, model.predict(X), color='r')"
   ]
  },
  {
   "cell_type": "code",
   "execution_count": 76,
   "id": "510a5dd5",
   "metadata": {},
   "outputs": [
    {
     "name": "stdout",
     "output_type": "stream",
     "text": [
      "Prediction [-55.513030355201664, 26.063065363808043, 111.71809151231545]\n"
     ]
    },
    {
     "data": {
      "text/plain": [
       "<matplotlib.collections.PathCollection at 0x186a80a8d30>"
      ]
     },
     "execution_count": 76,
     "metadata": {},
     "output_type": "execute_result"
    },
    {
     "data": {
      "image/png": "[encoded data removed]",
      "text/plain": [
       "<Figure size 432x288 with 1 Axes>"
      ]
     },
     "metadata": {
      "needs_background": "light"
     },
     "output_type": "display_data"
    }
   ],
   "source": [
    "# k = 2\n",
    "\n",
    "model = knn_r(2)\n",
    "\n",
    "model.fit(X, y)\n",
    "\n",
    "array = [[-1], [0], [1]]\n",
    "\n",
    "print('Prediction', model.predict(array))\n",
    "\n",
    "plt.scatter(X, y)\n",
    "plt.scatter(X, model.predict(X), color='r')"
   ]
  },
  {
   "cell_type": "code",
   "execution_count": null,
   "id": "2ea95302",
   "metadata": {},
   "outputs": [],
   "source": []
  }
 ],
 "metadata": {
  "kernelspec": {
   "display_name": "Python 3 (ipykernel)",
   "language": "python",
   "name": "python3"
  },
  "language_info": {
   "codemirror_mode": {
    "name": "ipython",
    "version": 3
   },
   "file_extension": ".py",
   "mimetype": "text/x-python",
   "name": "python",
   "nbconvert_exporter": "python",
   "pygments_lexer": "ipython3",
   "version": "3.9.7"
  }
 },
 "nbformat": 4,
 "nbformat_minor": 5
}
