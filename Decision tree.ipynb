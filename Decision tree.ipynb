{
 "cells": [
  {
   "cell_type": "markdown",
   "id": "5416a71d",
   "metadata": {},
   "source": [
    "# Decision tree classifier explaination\n",
    "\n",
    "This decision tree uses \"entropy\" to quantify the purity a subset of X where an entropy of 1 equates to equally represented classes and 0 equates to a single class only. The decision tree will choose the node/split that maximises the decrease in entropy from the whole set to the two subsets, this is called information gain. The model will continue this until each subset has entropy 0 or the maximum depth is reached.\n",
    "\n",
    "The fitted decision tree is stored as a dictionary where each entry is a node on the tree. The node contains its splitting point and the relavent feature along with the ID numbers of the succesive nodes. This makes predicting a point easy. When we reach a node we and compare the feature of our point to the split threshold and go to whichever node ID that corresponds to that result.If the node is a leaf node, then the dominant class of the subset is given as the final prediction.\n",
    "\n",
    "This explaination would be a lot clearer with some notation."
   ]
  },
  {
   "cell_type": "markdown",
   "id": "b4e655c5",
   "metadata": {},
   "source": [
    "### Import modules"
   ]
  },
  {
   "cell_type": "code",
   "execution_count": 58,
   "id": "5ffb9583",
   "metadata": {},
   "outputs": [],
   "source": [
    "import pandas as pd\n",
    "import numpy as np\n",
    "import math\n",
    "from sklearn.datasets import make_blobs\n",
    "from sklearn.datasets import make_regression\n",
    "import matplotlib.pyplot as plt"
   ]
  },
  {
   "cell_type": "markdown",
   "id": "5dd57519",
   "metadata": {},
   "source": [
    "### Make the data set"
   ]
  },
  {
   "cell_type": "code",
   "execution_count": 89,
   "id": "57ee4b1b",
   "metadata": {},
   "outputs": [],
   "source": [
    "X, y = make_blobs(n_samples=20, random_state=42, n_features=2, cluster_std=3, centers=3)"
   ]
  },
  {
   "cell_type": "code",
   "execution_count": 3,
   "id": "8a361121",
   "metadata": {},
   "outputs": [
    {
     "data": {
      "text/plain": [
       "<AxesSubplot:xlabel='x1', ylabel='x2'>"
      ]
     },
     "execution_count": 3,
     "metadata": {},
     "output_type": "execute_result"
    },
    {
     "data": {
      "image/png": "[encoded data removed]",
      "text/plain": [
       "<Figure size 432x288 with 1 Axes>"
      ]
     },
     "metadata": {
      "needs_background": "light"
     },
     "output_type": "display_data"
    }
   ],
   "source": [
    "df = pd.DataFrame(X, columns=['x1', 'x2'])\n",
    "\n",
    "df['y'] = y\n",
    "\n",
    "col = df['y'].map({1:'r', 2:'b', 0:'g'})\n",
    "\n",
    "df.plot(kind='scatter', x='x1', y='x2', c=col)\n"
   ]
  },
  {
   "cell_type": "markdown",
   "id": "3c930840",
   "metadata": {},
   "source": [
    "### Define the class"
   ]
  },
  {
   "cell_type": "code",
   "execution_count": 4,
   "id": "978bf59c",
   "metadata": {},
   "outputs": [],
   "source": [
    "class dt():\n",
    "    def __init__(self, max_depth):\n",
    "        self.split_d = {}\n",
    "        self.max_depth = max_depth\n",
    "\n",
    "    # proportion function for a class\n",
    "    def prop1(self, array, class_):\n",
    "        if array.shape[0] == 0:\n",
    "            return 0\n",
    "        return array[array == class_].shape[0]/array.shape[0]\n",
    "    \n",
    "    # proportion function for a split point\n",
    "    def prop2(self, array, split):\n",
    "        if array.shape[0] == 0:\n",
    "            return 0\n",
    "        return array[array < split].shape[0]/array.shape[0]\n",
    "\n",
    "    # entropy function\n",
    "    def entropy(self, y):\n",
    "        total = 0\n",
    "        for class_ in np.unique(y):\n",
    "            n = self.prop1(y, class_)\n",
    "            if n==0:\n",
    "                continue\n",
    "            total -= (n*math.log(n, 2))\n",
    "        return total\n",
    "\n",
    "    # information gain function\n",
    "    def ig(self, X, y, split_point):\n",
    "        result = self.entropy(y) - ((self.prop2(X, split_point)*self.entropy(y[X < split_point])) + (((1-self.prop2(X, split_point))*self.entropy(y[X >= split_point]))))\n",
    "        return result\n",
    "\n",
    "    # find best split\n",
    "    def fbs(self, X, y):\n",
    "        # top split is [ig, feature (int), feature split]\n",
    "        top_split = np.zeros(3)\n",
    "        # cycle through each feature\n",
    "        for i, x in enumerate(X.T):\n",
    "            # cycle through each feature split\n",
    "            for f_s in np.unique(x):\n",
    "                result = self.ig(x, y, f_s)\n",
    "                if result > top_split[0]:\n",
    "                    top_split = [result, i, f_s]\n",
    "        # returns (ig, feature number, feature split)\n",
    "        return top_split\n",
    "\n",
    "    def fit(self, X, y):\n",
    "        layer_list = [[]]\n",
    "        \n",
    "        self.split_d = {}\n",
    "\n",
    "        finished = False\n",
    "\n",
    "        split_id = 0\n",
    "\n",
    "        # each list in layer_list holds the splits for that layer\n",
    "        # a split has (X for that split, y for that split, feature number. feature split, direction of split)\n",
    "        layer_list[0].append((X, y, 'null', 'null', split_id, 'null'))\n",
    "\n",
    "        layer = 0\n",
    "\n",
    "        # make the decision tree\n",
    "        while not finished:\n",
    "            # add a new layer\n",
    "            layer_list.append([])\n",
    "            layer += 1\n",
    "            for split in layer_list[layer-1]:\n",
    "\n",
    "                X_temp = split[0]\n",
    "                y_temp = split[1]\n",
    "                \n",
    "\n",
    "                # if only one class left then move on\n",
    "                if (len(np.unique(y_temp)) < 2) or (layer > self.max_depth):\n",
    "                    # a leaf node with format [0, 0, class_id, finished]\n",
    "                    if split[5] == 0:\n",
    "                        self.split_d[split[4]] = [0, 0, 0, pd.DataFrame(y_temp[X_temp[:,split[2]] < split[3]]).value_counts().index[0][0], 1]\n",
    "                    else:\n",
    "                        self.split_d[split[4]] = [0, 0, 0, pd.DataFrame(y_temp[X_temp[:,split[2]] >= split[3]]).value_counts().index[0][0], 1]\n",
    "                    continue\n",
    "\n",
    "                # add lower split\n",
    "                split_id += 1\n",
    "                split_temp = self.fbs(X_temp, y_temp)\n",
    "                layer_list[layer].append((X_temp[X_temp[:,split_temp[1]] < split_temp[2]], y_temp[X_temp[:,split_temp[1]] < split_temp[2]], split_temp[1], split_temp[2], split_id, 0))\n",
    "\n",
    "                split_id += 1\n",
    "                # add upper split\n",
    "                layer_list[layer].append((X_temp[X_temp[:,split_temp[1]] >= split_temp[2]], y_temp[X_temp[:,split_temp[1]] >= split_temp[2]], split_temp[1], split_temp[2], split_id, 1))\n",
    "                self.split_d[split[4]] = (split_temp[1], split_temp[2], split_id-1, split_id, 0)\n",
    "\n",
    "            if len(layer_list[-1]) == 0:\n",
    "                finished = True\n",
    "                \n",
    "    def predict(self, array):\n",
    "        result_array = []\n",
    "\n",
    "        for x in array:\n",
    "            finished = False\n",
    "            split_id = 0\n",
    "            while finished == False:\n",
    "                result = self.split_d[split_id]\n",
    "\n",
    "                # if leaf node then end and print class\n",
    "                if result[4] == 1:\n",
    "                    result_array.append(result[3])\n",
    "                    break\n",
    "\n",
    "                # move on to the next split\n",
    "                if x[result[0]] < result[1]:\n",
    "                    split_id = result[2]\n",
    "                else:\n",
    "                    split_id = result[3]\n",
    "\n",
    "        return np.array(result_array)"
   ]
  },
  {
   "cell_type": "markdown",
   "id": "fa2de365",
   "metadata": {},
   "source": [
    "### make a prediction"
   ]
  },
  {
   "cell_type": "code",
   "execution_count": 5,
   "id": "68756e6a",
   "metadata": {
    "scrolled": true
   },
   "outputs": [
    {
     "data": {
      "text/plain": [
       "array([2, 1, 0], dtype=int64)"
      ]
     },
     "execution_count": 5,
     "metadata": {},
     "output_type": "execute_result"
    }
   ],
   "source": [
    "model = dt(max_depth=2)\n",
    "\n",
    "model.fit(X, y)\n",
    "\n",
    "model.predict([[-7, -10], [5, 0], [-5, 10]])"
   ]
  },
  {
   "cell_type": "code",
   "execution_count": 6,
   "id": "9a062d01",
   "metadata": {},
   "outputs": [
    {
     "data": {
      "text/plain": [
       "{0: (1, -2.301074874699639, 1, 2, 0),\n",
       " 1: [0, 0, 0, 2, 1],\n",
       " 2: (0, 1.1868981039611928, 3, 4, 0),\n",
       " 3: [0, 0, 0, 0, 1],\n",
       " 4: [0, 0, 0, 1, 1]}"
      ]
     },
     "execution_count": 6,
     "metadata": {},
     "output_type": "execute_result"
    }
   ],
   "source": [
    "model.split_d"
   ]
  },
  {
   "cell_type": "markdown",
   "id": "d5dccb57",
   "metadata": {},
   "source": [
    "# Decision tree regressor explaination\n",
    "\n",
    "Rather than using entropy to score a certain split, it takes the mean squared error of both subsets. The smaller the mean squared error, the better the split."
   ]
  },
  {
   "cell_type": "markdown",
   "id": "164acc32",
   "metadata": {},
   "source": [
    "### Make the dataset"
   ]
  },
  {
   "cell_type": "code",
   "execution_count": 16,
   "id": "94528047",
   "metadata": {},
   "outputs": [],
   "source": [
    "X, y = make_regression(n_samples=100, n_features=1, random_state=4, noise=30, bias = 40)"
   ]
  },
  {
   "cell_type": "code",
   "execution_count": 17,
   "id": "00148233",
   "metadata": {},
   "outputs": [
    {
     "data": {
      "text/plain": [
       "<AxesSubplot:xlabel='X', ylabel='y'>"
      ]
     },
     "execution_count": 17,
     "metadata": {},
     "output_type": "execute_result"
    },
    {
     "data": {
      "image/png": "[encoded data removed]",
      "text/plain": [
       "<Figure size 432x288 with 1 Axes>"
      ]
     },
     "metadata": {
      "needs_background": "light"
     },
     "output_type": "display_data"
    }
   ],
   "source": [
    "df = pd.DataFrame(X, columns=['X'])\n",
    "df['y'] = y\n",
    "\n",
    "df.plot(x='X', y='y', kind='scatter')"
   ]
  },
  {
   "cell_type": "markdown",
   "id": "34431d3f",
   "metadata": {},
   "source": [
    "### Define the class"
   ]
  },
  {
   "cell_type": "code",
   "execution_count": 53,
   "id": "0d14ef56",
   "metadata": {},
   "outputs": [],
   "source": [
    "class dt():\n",
    "    def __init__(self, max_depth):\n",
    "        self.split_d = {}\n",
    "        self.max_depth = max_depth\n",
    "\n",
    "    # proportion function for a class\n",
    "    def prop1(self, array, class_):\n",
    "        if array.shape[0] == 0:\n",
    "            return 0\n",
    "        return array[array == class_].shape[0]/array.shape[0]\n",
    "    \n",
    "    # proportion function for a split point\n",
    "    def prop2(self, array, split):\n",
    "        if array.shape[0] == 0:\n",
    "            return 0\n",
    "        return array[array < split].shape[0]/array.shape[0]\n",
    "\n",
    "    # mean squared error\n",
    "    def mse(self, y):\n",
    "        total = 0\n",
    "        if y.shape[0] == 0:\n",
    "            return 0\n",
    "        mean = y.mean()\n",
    "        for i in y:\n",
    "            total += pow(i - mean, 2)\n",
    "        return total\n",
    "\n",
    "    # mean\n",
    "    def ig(self, X, y, split_point):\n",
    "        result = self.mse(y) - ((self.prop2(X, split_point)*self.mse(y[X < split_point])) + (((1-self.prop2(X, split_point))*self.mse(y[X >= split_point]))))\n",
    "        return result\n",
    "\n",
    "    # find best split\n",
    "    def fbs(self, X, y):\n",
    "        # top split is [ig, feature (int), feature split]\n",
    "        top_split = np.zeros(3)\n",
    "        # cycle through each feature\n",
    "        for i, x in enumerate(X.T):\n",
    "            # cycle through each feature split\n",
    "            for f_s in np.unique(x):\n",
    "                result = self.ig(x, y, f_s)\n",
    "                if result > top_split[0]:\n",
    "                    top_split = [result, int(i), f_s]\n",
    "        # returns (ig, feature number, feature split)\n",
    "        return top_split\n",
    "\n",
    "    def fit(self, X, y):\n",
    "        layer_list = [[]]\n",
    "        \n",
    "        self.split_d = {}\n",
    "\n",
    "        finished = False\n",
    "\n",
    "        split_id = 0\n",
    "\n",
    "        # each list in layer_list holds the splits for that layer\n",
    "        # a split has (X for that split, y for that split, feature number. feature split, direction of split)\n",
    "        layer_list[0].append((X, y, 'null', 'null', split_id, 'null'))\n",
    "\n",
    "        layer = 0\n",
    "\n",
    "        # make the decision tree\n",
    "        while not finished:\n",
    "            # add a new layer\n",
    "            layer_list.append([])\n",
    "            layer += 1\n",
    "            for split in layer_list[layer-1]:\n",
    "\n",
    "                X_temp = split[0]\n",
    "                y_temp = split[1]\n",
    "                \n",
    "\n",
    "                # if only one class left then move on\n",
    "                if (len(np.unique(y_temp)) < 2) or (layer > self.max_depth):\n",
    "                    # a leaf node with format [0, 0, class_id, finished]\n",
    "                    if split[5] == 0:\n",
    "                        self.split_d[split[4]] = [0, 0, 0, y_temp[X_temp[:,split[2]] < split[3]].mean(), 1]\n",
    "                    else:\n",
    "                        self.split_d[split[4]] = [0, 0, 0, y_temp[X_temp[:,split[2]] >= split[3]].mean(), 1]\n",
    "                    continue\n",
    "\n",
    "                # add lower split\n",
    "                split_id += 1\n",
    "                split_temp = self.fbs(X_temp, y_temp)\n",
    "                layer_list[layer].append((X_temp[X_temp[:,int(split_temp[1])] < split_temp[2]], y_temp[X_temp[:,int(split_temp[1])] < split_temp[2]], split_temp[1], split_temp[2], split_id, 0))\n",
    "\n",
    "                split_id += 1\n",
    "                # add upper split\n",
    "                layer_list[layer].append((X_temp[X_temp[:,int(split_temp[1])] >= split_temp[2]], y_temp[X_temp[:, int(split_temp[1])] >= split_temp[2]], split_temp[1], split_temp[2], split_id, 1))\n",
    "                self.split_d[split[4]] = (int(split_temp[1]), split_temp[2], split_id-1, split_id, 0)\n",
    "\n",
    "            if len(layer_list[-1]) == 0:\n",
    "                finished = True\n",
    "                \n",
    "    def predict(self, array):\n",
    "        result_array = []\n",
    "\n",
    "        for x in array:\n",
    "            finished = False\n",
    "            split_id = 0\n",
    "            while finished == False:\n",
    "                result = self.split_d[split_id]\n",
    "\n",
    "                # if leaf node then end and print class\n",
    "                if result[4] == 1:\n",
    "                    result_array.append(result[3])\n",
    "                    break\n",
    "\n",
    "                # move on to the next split\n",
    "                if x[result[0]] < result[1]:\n",
    "                    split_id = result[2]\n",
    "                else:\n",
    "                    split_id = result[3]\n",
    "\n",
    "        return np.array(result_array)"
   ]
  },
  {
   "cell_type": "code",
   "execution_count": 84,
   "id": "dcd56be7",
   "metadata": {},
   "outputs": [
    {
     "data": {
      "text/plain": [
       "array([-10.93400809, 101.64253205, 101.64253205])"
      ]
     },
     "execution_count": 84,
     "metadata": {},
     "output_type": "execute_result"
    }
   ],
   "source": [
    "model = dt(max_depth=1)\n",
    "\n",
    "model.fit(X, y)\n",
    "\n",
    "model.predict([[0], [5] , [10]])"
   ]
  },
  {
   "cell_type": "markdown",
   "id": "442bfe4e",
   "metadata": {},
   "source": [
    "### Take a look at the results"
   ]
  },
  {
   "cell_type": "code",
   "execution_count": 86,
   "id": "55803037",
   "metadata": {},
   "outputs": [
    {
     "data": {
      "text/plain": [
       "<matplotlib.collections.PathCollection at 0x20a1fbc0310>"
      ]
     },
     "execution_count": 86,
     "metadata": {},
     "output_type": "execute_result"
    },
    {
     "data": {
      "image/png": "[encoded data removed]",
      "text/plain": [
       "<Figure size 432x288 with 1 Axes>"
      ]
     },
     "metadata": {
      "needs_background": "light"
     },
     "output_type": "display_data"
    }
   ],
   "source": [
    "# max depth of 1\n",
    "plt.scatter(X,y,color='red',label='Actual')\n",
    "plt.scatter(X ,model.predict(X),color='blue',label='Prediction')"
   ]
  },
  {
   "cell_type": "code",
   "execution_count": 88,
   "id": "850f7f9f",
   "metadata": {},
   "outputs": [
    {
     "data": {
      "text/plain": [
       "<matplotlib.collections.PathCollection at 0x20a21455f40>"
      ]
     },
     "execution_count": 88,
     "metadata": {},
     "output_type": "execute_result"
    },
    {
     "data": {
      "image/png": "[encoded data removed]",
      "text/plain": [
       "<Figure size 432x288 with 1 Axes>"
      ]
     },
     "metadata": {
      "needs_background": "light"
     },
     "output_type": "display_data"
    }
   ],
   "source": [
    "# max depth of 5\n",
    "model = dt(max_depth=5)\n",
    "model.fit(X, y)\n",
    "\n",
    "plt.scatter(X, y, color='red', label='Actual')\n",
    "plt.scatter(X, model.predict(X),color='blue',label='Prediction')"
   ]
  },
  {
   "cell_type": "code",
   "execution_count": null,
   "id": "c48e442e",
   "metadata": {},
   "outputs": [],
   "source": []
  }
 ],
 "metadata": {
  "kernelspec": {
   "display_name": "Python 3 (ipykernel)",
   "language": "python",
   "name": "python3"
  },
  "language_info": {
   "codemirror_mode": {
    "name": "ipython",
    "version": 3
   },
   "file_extension": ".py",
   "mimetype": "text/x-python",
   "name": "python",
   "nbconvert_exporter": "python",
   "pygments_lexer": "ipython3",
   "version": "3.9.7"
  }
 },
 "nbformat": 4,
 "nbformat_minor": 5
}
