{
 "cells": [
  {
   "cell_type": "code",
   "execution_count": 41,
   "id": "efc3efc7",
   "metadata": {},
   "outputs": [],
   "source": [
    "import pandas as pd\n",
    "import numpy as np\n",
    "import math\n",
    "from sklearn.datasets import make_blobs\n",
    "from sklearn.datasets import make_regression\n",
    "import matplotlib.pyplot as plt\n",
    "from sklearn.preprocessing import KBinsDiscretizer\n",
    "pd.options.mode.chained_assignment = None"
   ]
  },
  {
   "cell_type": "markdown",
   "id": "070febf0",
   "metadata": {},
   "source": [
    "# Naive-Bayes explaination\n",
    "\n",
    "If we assume that all features are independant then given a certain point x = (x1, x2, ...), we can calculate the probability that the class of x is y_i using Bayes theorem and the fact that we know the probability of y_i given x. This is true for any probabilty funtion  where we can calulate the probability of x given y. In the first example we have two features using the Bernoulli distribution."
   ]
  },
  {
   "cell_type": "markdown",
   "id": "82721389",
   "metadata": {},
   "source": [
    "### Create the dataset"
   ]
  },
  {
   "cell_type": "code",
   "execution_count": 95,
   "id": "13e45c06",
   "metadata": {},
   "outputs": [],
   "source": [
    "X, y = make_blobs(n_samples=100, random_state=42, n_features=2, cluster_std=3, centers=3)"
   ]
  },
  {
   "cell_type": "code",
   "execution_count": 96,
   "id": "43dac59e",
   "metadata": {},
   "outputs": [
    {
     "data": {
      "text/plain": [
       "<AxesSubplot:xlabel='x1', ylabel='x2'>"
      ]
     },
     "execution_count": 96,
     "metadata": {},
     "output_type": "execute_result"
    },
    {
     "data": {
      "image/png": "[encoded data removed]",
      "text/plain": [
       "<Figure size 432x288 with 1 Axes>"
      ]
     },
     "metadata": {
      "needs_background": "light"
     },
     "output_type": "display_data"
    }
   ],
   "source": [
    "df = pd.DataFrame(X, columns=['x1', 'x2'])\n",
    "\n",
    "#kbins = KBinsDiscretizer(n_bins=2, encode='ordinal', strategy='uniform')\n",
    "#df = kbins.fit_transform(df)\n",
    "\n",
    "df['y'] = y\n",
    "\n",
    "col = df['y'].map({1:'r', 2:'b', 0:'g'})\n",
    "\n",
    "df[['x1', 'x2']].plot(kind='scatter', x='x1', y='x2', color=col)"
   ]
  },
  {
   "cell_type": "code",
   "execution_count": 97,
   "id": "602cc74e",
   "metadata": {},
   "outputs": [
    {
     "data": {
      "text/html": [
       "<div>\n",
       "<style scoped>\n",
       "    .dataframe tbody tr th:only-of-type {\n",
       "        vertical-align: middle;\n",
       "    }\n",
       "\n",
       "    .dataframe tbody tr th {\n",
       "        vertical-align: top;\n",
       "    }\n",
       "\n",
       "    .dataframe thead th {\n",
       "        text-align: right;\n",
       "    }\n",
       "</style>\n",
       "<table border=\"1\" class=\"dataframe\">\n",
       "  <thead>\n",
       "    <tr style=\"text-align: right;\">\n",
       "      <th></th>\n",
       "      <th>x1</th>\n",
       "      <th>x2</th>\n",
       "      <th>y</th>\n",
       "    </tr>\n",
       "  </thead>\n",
       "  <tbody>\n",
       "    <tr>\n",
       "      <th>0</th>\n",
       "      <td>0</td>\n",
       "      <td>1</td>\n",
       "      <td>2</td>\n",
       "    </tr>\n",
       "    <tr>\n",
       "      <th>1</th>\n",
       "      <td>1</td>\n",
       "      <td>1</td>\n",
       "      <td>1</td>\n",
       "    </tr>\n",
       "    <tr>\n",
       "      <th>2</th>\n",
       "      <td>0</td>\n",
       "      <td>0</td>\n",
       "      <td>0</td>\n",
       "    </tr>\n",
       "    <tr>\n",
       "      <th>3</th>\n",
       "      <td>1</td>\n",
       "      <td>1</td>\n",
       "      <td>1</td>\n",
       "    </tr>\n",
       "    <tr>\n",
       "      <th>4</th>\n",
       "      <td>0</td>\n",
       "      <td>1</td>\n",
       "      <td>2</td>\n",
       "    </tr>\n",
       "  </tbody>\n",
       "</table>\n",
       "</div>"
      ],
      "text/plain": [
       "   x1  x2  y\n",
       "0   0   1  2\n",
       "1   1   1  1\n",
       "2   0   0  0\n",
       "3   1   1  1\n",
       "4   0   1  2"
      ]
     },
     "execution_count": 97,
     "metadata": {},
     "output_type": "execute_result"
    }
   ],
   "source": [
    "# convert each feature to boolean\n",
    "\n",
    "def greater_than(threshold, entry):\n",
    "    if entry > threshold:\n",
    "        return 1\n",
    "    return 0\n",
    "\n",
    "df.loc[:, 'x1'] = df['x1'].apply(lambda x: greater_than(0, x)).astype(int)\n",
    "df.loc[:, 'x2'] = df['x2'].apply(lambda x: greater_than(0, -x)).astype(int)\n",
    "\n",
    "X = df[['x1', 'x2']]\n",
    "y = df['y']\n",
    "\n",
    "df.head()"
   ]
  },
  {
   "cell_type": "markdown",
   "id": "a9908527",
   "metadata": {},
   "source": [
    "### Define the class"
   ]
  },
  {
   "cell_type": "code",
   "execution_count": 98,
   "id": "2bf99ae7",
   "metadata": {},
   "outputs": [],
   "source": [
    "class NB():\n",
    "    def __init__(self):\n",
    "        self.p = {}\n",
    "        self.classes = []\n",
    "        \n",
    "    def fit(self, X, y):\n",
    "        y = pd.Series(y)\n",
    "        X = pd.DataFrame(X)\n",
    "        \n",
    "        self.classes = pd.Series(y).unique()\n",
    "        for y_i in self.classes:\n",
    "            self.p[y_i] = y[y==y_i].shape[0]/y.shape[0]\n",
    "            for x in range(len(X.columns)):\n",
    "                for x_i in X.iloc[:, x].unique():\n",
    "                    # the probability of x_i in feature x given y_i\n",
    "                    self.p[(x_i, x, y_i)] = (X[(y == y_i) & (X.iloc[:, x] == x_i)].shape[0] / X[(y == y_i)].shape[0])\n",
    "        \n",
    "    def predict(self, array):\n",
    "        result_list = []\n",
    "        for x in array:\n",
    "            y_list = []\n",
    "            for y_i in self.classes:\n",
    "                prob = self.p[y_i]\n",
    "                for i, x_i in enumerate(x):\n",
    "                    prob *= self.p[(x_i, i, y_i)]\n",
    "                y_list.append((y_i, prob))\n",
    "            result_list.append(max(y_list, key=lambda x: x[1])[0])\n",
    "        return result_list"
   ]
  },
  {
   "cell_type": "code",
   "execution_count": 99,
   "id": "35f47d75",
   "metadata": {},
   "outputs": [
    {
     "data": {
      "text/plain": [
       "[0, 1, 2, 1]"
      ]
     },
     "execution_count": 99,
     "metadata": {},
     "output_type": "execute_result"
    }
   ],
   "source": [
    "model =  NB()\n",
    "\n",
    "model.fit(X, y)\n",
    "\n",
    "model.p\n",
    "model.predict([[0, 0], [1, 0], [0, 1], [1, 1]])"
   ]
  },
  {
   "cell_type": "code",
   "execution_count": null,
   "id": "83628522",
   "metadata": {},
   "outputs": [],
   "source": []
  }
 ],
 "metadata": {
  "kernelspec": {
   "display_name": "Python 3 (ipykernel)",
   "language": "python",
   "name": "python3"
  },
  "language_info": {
   "codemirror_mode": {
    "name": "ipython",
    "version": 3
   },
   "file_extension": ".py",
   "mimetype": "text/x-python",
   "name": "python",
   "nbconvert_exporter": "python",
   "pygments_lexer": "ipython3",
   "version": "3.9.7"
  }
 },
 "nbformat": 4,
 "nbformat_minor": 5
}
