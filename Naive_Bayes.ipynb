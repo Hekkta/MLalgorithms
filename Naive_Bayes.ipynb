{
 "cells": [
  {
   "cell_type": "code",
   "execution_count": 6,
   "id": "efc3efc7",
   "metadata": {},
   "outputs": [],
   "source": [
    "import pandas as pd\n",
    "import numpy as np\n",
    "import math\n",
    "from sklearn.datasets import make_blobs\n",
    "from sklearn.datasets import make_regression\n",
    "import matplotlib.pyplot as plt\n",
    "from sklearn.preprocessing import KBinsDiscretizer"
   ]
  },
  {
   "cell_type": "markdown",
   "id": "070febf0",
   "metadata": {},
   "source": [
    "# Naive-Bayes explaination\n",
    "\n",
    "If we assume that all features are independant then given a certain point x = (x1, x2, ...), we can calculate the probability that the class of x is y_i using Bayes theorem and the fact that we know the probability of y_i given x. This is true for any probabilty funtion  where we can calulate the probability of x given y. In the first example I simply assume that each feature is uniformly distributed according to X, this isn't realistic at all but it shows the idea in it's simplest form (in my opinion). "
   ]
  },
  {
   "cell_type": "markdown",
   "id": "82721389",
   "metadata": {},
   "source": [
    "### Create the dataset"
   ]
  },
  {
   "cell_type": "code",
   "execution_count": 157,
   "id": "13e45c06",
   "metadata": {},
   "outputs": [],
   "source": [
    "X, y = make_blobs(n_samples=100, random_state=42, n_features=2, cluster_std=3, centers=3)"
   ]
  },
  {
   "cell_type": "code",
   "execution_count": 158,
   "id": "43dac59e",
   "metadata": {},
   "outputs": [
    {
     "data": {
      "image/png": "[encoded data removed]",
      "text/plain": [
       "<Figure size 432x288 with 1 Axes>"
      ]
     },
     "metadata": {
      "needs_background": "light"
     },
     "output_type": "display_data"
    }
   ],
   "source": [
    "df = pd.DataFrame(X, columns=['x1', 'x2'])\n",
    "\n",
    "kbins = KBinsDiscretizer(n_bins=10, encode='ordinal', strategy='uniform')\n",
    "df = kbins.fit_transform(df)\n",
    "\n",
    "df = pd.DataFrame(df, columns=['x1', 'x2'])\n",
    "\n",
    "df['y'] = y\n",
    "\n",
    "col = df['y'].map({1:'r', 2:'b', 0:'g'})\n",
    "\n",
    "df.plot(kind='scatter', x='x1', y='x2', color=col, subplots=True, legend=True)\n",
    "\n",
    "X = df[['x1', 'x2']]\n",
    "y = df['y']"
   ]
  },
  {
   "cell_type": "code",
   "execution_count": 161,
   "id": "01a70bb3",
   "metadata": {},
   "outputs": [
    {
     "data": {
      "text/html": [
       "<div>\n",
       "<style scoped>\n",
       "    .dataframe tbody tr th:only-of-type {\n",
       "        vertical-align: middle;\n",
       "    }\n",
       "\n",
       "    .dataframe tbody tr th {\n",
       "        vertical-align: top;\n",
       "    }\n",
       "\n",
       "    .dataframe thead th {\n",
       "        text-align: right;\n",
       "    }\n",
       "</style>\n",
       "<table border=\"1\" class=\"dataframe\">\n",
       "  <thead>\n",
       "    <tr style=\"text-align: right;\">\n",
       "      <th></th>\n",
       "      <th>x1</th>\n",
       "      <th>x2</th>\n",
       "      <th>y</th>\n",
       "    </tr>\n",
       "  </thead>\n",
       "  <tbody>\n",
       "    <tr>\n",
       "      <th>0</th>\n",
       "      <td>1.0</td>\n",
       "      <td>0.0</td>\n",
       "      <td>2</td>\n",
       "    </tr>\n",
       "    <tr>\n",
       "      <th>1</th>\n",
       "      <td>8.0</td>\n",
       "      <td>3.0</td>\n",
       "      <td>1</td>\n",
       "    </tr>\n",
       "    <tr>\n",
       "      <th>2</th>\n",
       "      <td>3.0</td>\n",
       "      <td>8.0</td>\n",
       "      <td>0</td>\n",
       "    </tr>\n",
       "    <tr>\n",
       "      <th>3</th>\n",
       "      <td>9.0</td>\n",
       "      <td>3.0</td>\n",
       "      <td>1</td>\n",
       "    </tr>\n",
       "    <tr>\n",
       "      <th>4</th>\n",
       "      <td>2.0</td>\n",
       "      <td>2.0</td>\n",
       "      <td>2</td>\n",
       "    </tr>\n",
       "  </tbody>\n",
       "</table>\n",
       "</div>"
      ],
      "text/plain": [
       "    x1   x2  y\n",
       "0  1.0  0.0  2\n",
       "1  8.0  3.0  1\n",
       "2  3.0  8.0  0\n",
       "3  9.0  3.0  1\n",
       "4  2.0  2.0  2"
      ]
     },
     "execution_count": 161,
     "metadata": {},
     "output_type": "execute_result"
    }
   ],
   "source": [
    "df.head()"
   ]
  },
  {
   "cell_type": "markdown",
   "id": "89742d51",
   "metadata": {},
   "source": [
    "### Assumptions:\n",
    "\n",
    "    1. x1 and x2 are independant.\n",
    "    \n",
    "    2. P(y=2|x1=1) = 3/4, this is because 3 of the 4 points where x1 = 1 are of class 2 (this is the unrealistic uniformdistribution assumption that I was on about)."
   ]
  },
  {
   "cell_type": "markdown",
   "id": "a9908527",
   "metadata": {},
   "source": [
    "### Define the class"
   ]
  },
  {
   "cell_type": "code",
   "execution_count": 162,
   "id": "2bf99ae7",
   "metadata": {},
   "outputs": [],
   "source": [
    "class NB():\n",
    "    def __init__(self):\n",
    "        self.y = pd.Series(dtype=float)\n",
    "        self.X = pd.DataFrame()\n",
    "        \n",
    "    def fit(self, X, y):\n",
    "        self.y = pd.Series(y)\n",
    "        self.X = pd.DataFrame(X)\n",
    "        \n",
    "    def predict(self, array):\n",
    "        classes = pd.Series(self.y).unique()\n",
    "        result_list = []\n",
    "        for x in array:\n",
    "            y_list = []\n",
    "            for y_i in classes:\n",
    "                prob = y[y==y_i].shape[0]/y.shape[0]\n",
    "                for i, x_i in enumerate(x):\n",
    "                    prob *= (self.X[(self.y == y_i) & (self.X.iloc[:, i] == x_i)].shape[0] / self.X[(self.y == y_i)].shape[0])\n",
    "                y_list.append((y_i, prob))\n",
    "            result_list.append(max(y_list, key=lambda x: x[1])[0])\n",
    "        return result_list"
   ]
  },
  {
   "cell_type": "code",
   "execution_count": 164,
   "id": "35f47d75",
   "metadata": {},
   "outputs": [
    {
     "data": {
      "text/plain": [
       "[0, 2, 1]"
      ]
     },
     "execution_count": 164,
     "metadata": {},
     "output_type": "execute_result"
    }
   ],
   "source": [
    "model =  NB()\n",
    "\n",
    "model.fit(X, y)\n",
    "\n",
    "model.predict([[3,7], [2, 3], [7, 3]])"
   ]
  },
  {
   "cell_type": "code",
   "execution_count": null,
   "id": "0a588a7c",
   "metadata": {},
   "outputs": [],
   "source": []
  }
 ],
 "metadata": {
  "kernelspec": {
   "display_name": "Python 3 (ipykernel)",
   "language": "python",
   "name": "python3"
  },
  "language_info": {
   "codemirror_mode": {
    "name": "ipython",
    "version": 3
   },
   "file_extension": ".py",
   "mimetype": "text/x-python",
   "name": "python",
   "nbconvert_exporter": "python",
   "pygments_lexer": "ipython3",
   "version": "3.9.7"
  }
 },
 "nbformat": 4,
 "nbformat_minor": 5
}
