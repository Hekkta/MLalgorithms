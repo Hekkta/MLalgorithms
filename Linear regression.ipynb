{
 "cells": [
  {
   "cell_type": "code",
   "execution_count": 1,
   "id": "cfe12e94",
   "metadata": {},
   "outputs": [],
   "source": [
    "import pandas as pd\n",
    "import numpy as np"
   ]
  },
  {
   "cell_type": "markdown",
   "id": "ca081f4f",
   "metadata": {},
   "source": [
    "### Making a linear dataset"
   ]
  },
  {
   "cell_type": "code",
   "execution_count": 6,
   "id": "fc9f4167",
   "metadata": {},
   "outputs": [],
   "source": [
    "from sklearn.datasets import make_regression\n",
    "X, y = make_regression(n_samples=100, n_features=1, random_state=4, noise=10, bias = 4)"
   ]
  },
  {
   "cell_type": "code",
   "execution_count": 9,
   "id": "a3540974",
   "metadata": {},
   "outputs": [
    {
     "data": {
      "text/plain": [
       "array([[-1.3474603],\n",
       "       [ 0.3523434],\n",
       "       [ 0.9546986]])"
      ]
     },
     "execution_count": 9,
     "metadata": {},
     "output_type": "execute_result"
    }
   ],
   "source": [
    "X[:3]"
   ]
  },
  {
   "cell_type": "code",
   "execution_count": 11,
   "id": "e2150ba2",
   "metadata": {},
   "outputs": [
    {
     "data": {
      "text/plain": [
       "array([-110.29640622,   42.84514523,   71.83340531])"
      ]
     },
     "execution_count": 11,
     "metadata": {},
     "output_type": "execute_result"
    }
   ],
   "source": [
    "y[:3]"
   ]
  },
  {
   "cell_type": "markdown",
   "id": "c2e6731e",
   "metadata": {},
   "source": [
    "### take a look at the data"
   ]
  },
  {
   "cell_type": "code",
   "execution_count": 12,
   "id": "705d116f",
   "metadata": {},
   "outputs": [
    {
     "data": {
      "text/plain": [
       "<AxesSubplot:xlabel='X', ylabel='y'>"
      ]
     },
     "execution_count": 12,
     "metadata": {},
     "output_type": "execute_result"
    },
    {
     "data": {
      "image/png": "[encoded data removed]",
      "text/plain": [
       "<Figure size 432x288 with 1 Axes>"
      ]
     },
     "metadata": {
      "needs_background": "light"
     },
     "output_type": "display_data"
    }
   ],
   "source": [
    "df = pd.DataFrame(X, columns=['X'])\n",
    "df['y'] = y\n",
    "\n",
    "df.plot(x='X', y='y', kind='scatter')"
   ]
  },
  {
   "cell_type": "markdown",
   "id": "ec96199e",
   "metadata": {},
   "source": [
    "### making the funtion"
   ]
  },
  {
   "cell_type": "code",
   "execution_count": 13,
   "id": "eebeba08",
   "metadata": {},
   "outputs": [],
   "source": [
    "class lin_reg():\n",
    "    def __init__(self, alpha):\n",
    "        self.alpha = alpha\n",
    "        self.theta = np.zeros(1)\n",
    "\n",
    "    def fit(self, X, y):\n",
    "    \n",
    "        # set starting values\n",
    "        self.theta = np.zeros(X.shape[1]+1)\n",
    "\n",
    "        if X.shape[0] != y.shape[0]:\n",
    "            print('X and y are different sizes.')\n",
    "\n",
    "        # length of all\n",
    "        m = X.shape[0]\n",
    "\n",
    "        # create a dummy set for the bias\n",
    "        X_dummy = np.array([1]*m)\n",
    "\n",
    "        # training\n",
    "        for x_n, dummy, y_n in zip(X, X_dummy, y):\n",
    "            y_hat = self.theta[0] + dummy\n",
    "            for theta_i, x_i in zip(self.theta[1:], x_n):\n",
    "                y_hat += theta_i*x_i\n",
    "\n",
    "            self.theta[0] -= (self.alpha/m)*(y_hat - y_n)\n",
    "            for i, x_i in enumerate(x_n):\n",
    "                self.theta[i+1] -= (self.alpha/m)*(y_hat - y_n)*(x_i)\n",
    "                \n",
    "    def predict(self, X):\n",
    "        result = np.array([1]*X.shape[0])*self.theta[0]\n",
    "        \n",
    "        for i, x in zip(self.theta[1:], X.T):\n",
    "            result = result + (i*x)\n",
    "            \n",
    "        return result"
   ]
  },
  {
   "cell_type": "markdown",
   "id": "b7dd2442",
   "metadata": {},
   "source": [
    "### define and fit the model"
   ]
  },
  {
   "cell_type": "code",
   "execution_count": 14,
   "id": "0b97e10c",
   "metadata": {},
   "outputs": [
    {
     "data": {
      "text/plain": [
       "array([ 3.98672438, 75.97867255])"
      ]
     },
     "execution_count": 14,
     "metadata": {},
     "output_type": "execute_result"
    }
   ],
   "source": [
    "model = lin_reg(alpha=10)\n",
    "\n",
    "model.fit(X, y)\n",
    "\n",
    "model.theta"
   ]
  },
  {
   "cell_type": "code",
   "execution_count": 15,
   "id": "1625f514",
   "metadata": {},
   "outputs": [
    {
     "data": {
      "text/plain": [
       "array([[-1.3474603],\n",
       "       [ 0.3523434],\n",
       "       [ 0.9546986]])"
      ]
     },
     "execution_count": 15,
     "metadata": {},
     "output_type": "execute_result"
    }
   ],
   "source": [
    "X[0:3]"
   ]
  },
  {
   "cell_type": "code",
   "execution_count": 16,
   "id": "b7c9817b",
   "metadata": {},
   "outputs": [
    {
     "data": {
      "text/plain": [
       "array([-98.39152016,  30.75730793,  76.52345649])"
      ]
     },
     "execution_count": 16,
     "metadata": {},
     "output_type": "execute_result"
    }
   ],
   "source": [
    "model.predict(X[0:3])"
   ]
  },
  {
   "cell_type": "markdown",
   "id": "153ccfbd",
   "metadata": {},
   "source": [
    "### See the results"
   ]
  },
  {
   "cell_type": "code",
   "execution_count": 18,
   "id": "57b3d34a",
   "metadata": {},
   "outputs": [
    {
     "data": {
      "text/plain": [
       "[<matplotlib.lines.Line2D at 0x24678e964f0>]"
      ]
     },
     "execution_count": 18,
     "metadata": {},
     "output_type": "execute_result"
    },
    {
     "data": {
      "image/png": "[encoded data removed]",
      "text/plain": [
       "<Figure size 432x288 with 1 Axes>"
      ]
     },
     "metadata": {
      "needs_background": "light"
     },
     "output_type": "display_data"
    }
   ],
   "source": [
    "import matplotlib.pyplot as plt \n",
    "\n",
    "plt.plot(X, y, 'o', label='data')\n",
    "\n",
    "xx = np.linspace(X.min(), X.max(), 100)\n",
    "\n",
    "yy = model.theta[0] + model.theta[1]*xx\n",
    "\n",
    "plt.plot(xx, yy, label='least squares fit, $y = a + bx$')"
   ]
  },
  {
   "cell_type": "markdown",
   "id": "f4b49d27",
   "metadata": {},
   "source": [
    "### compare to the sklearn regression"
   ]
  },
  {
   "cell_type": "code",
   "execution_count": 19,
   "id": "f0f3b9bd",
   "metadata": {},
   "outputs": [
    {
     "data": {
      "text/plain": [
       "(3.783924120382255, array([75.44323245]))"
      ]
     },
     "execution_count": 19,
     "metadata": {},
     "output_type": "execute_result"
    }
   ],
   "source": [
    "from sklearn.linear_model import LinearRegression\n",
    "reg = LinearRegression().fit(X, y)\n",
    "reg.intercept_, reg.coef_"
   ]
  },
  {
   "cell_type": "code",
   "execution_count": 20,
   "id": "fbff2b36",
   "metadata": {},
   "outputs": [
    {
     "data": {
      "text/plain": [
       "array([-97.87283614,  30.36584889,  75.80947231])"
      ]
     },
     "execution_count": 20,
     "metadata": {},
     "output_type": "execute_result"
    }
   ],
   "source": [
    "reg.predict(X[0:3])"
   ]
  },
  {
   "cell_type": "code",
   "execution_count": 21,
   "id": "aa4aefdb",
   "metadata": {},
   "outputs": [
    {
     "data": {
      "text/plain": [
       "[<matplotlib.lines.Line2D at 0x2467910c4f0>]"
      ]
     },
     "execution_count": 21,
     "metadata": {},
     "output_type": "execute_result"
    },
    {
     "data": {
      "image/png": "[encoded data removed]",
      "text/plain": [
       "<Figure size 432x288 with 1 Axes>"
      ]
     },
     "metadata": {
      "needs_background": "light"
     },
     "output_type": "display_data"
    }
   ],
   "source": [
    "plt.plot(X, y, 'o', label='data')\n",
    "\n",
    "xx = np.linspace(X.min(), X.max(), 100)\n",
    "\n",
    "yy = reg.intercept_ + reg.coef_*xx\n",
    "\n",
    "plt.plot(xx, yy, label='least squares fit, $y = a + bx$')"
   ]
  },
  {
   "cell_type": "code",
   "execution_count": null,
   "id": "7f3fb892",
   "metadata": {},
   "outputs": [],
   "source": []
  }
 ],
 "metadata": {
  "kernelspec": {
   "display_name": "Python 3 (ipykernel)",
   "language": "python",
   "name": "python3"
  },
  "language_info": {
   "codemirror_mode": {
    "name": "ipython",
    "version": 3
   },
   "file_extension": ".py",
   "mimetype": "text/x-python",
   "name": "python",
   "nbconvert_exporter": "python",
   "pygments_lexer": "ipython3",
   "version": "3.9.7"
  }
 },
 "nbformat": 4,
 "nbformat_minor": 5
}
